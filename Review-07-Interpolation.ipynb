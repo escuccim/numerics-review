{
 "cells": [
  {
   "cell_type": "markdown",
   "metadata": {},
   "source": [
    "# Review-07-Interpolation"
   ]
  },
  {
   "cell_type": "markdown",
   "metadata": {},
   "source": [
    "Answers to review questions from Chapter 7: Interpolation <cite data-cite=\"heath2018scientific\">(Heath, 2018)</cite>.\n",
    "\n",
    "---\n",
    "Questions marked with $\\bigtriangledown$ are considered more difficult."
   ]
  },
  {
   "cell_type": "markdown",
   "metadata": {},
   "source": [
    "> 7.1. True or false: There are arbitrarily many different mathematical functions that interpolate a given set of data points.\n",
    "\n",
    "True. Interpolants differ in terms of form, behavior between data points, and how the interpolant reflects the properties of monotonicity, smoothness, and convexity. "
   ]
  },
  {
   "cell_type": "markdown",
   "metadata": {},
   "source": [
    "> 7.2. True or false: If an interpolating func- tion accurately reproduces the given data val- ues, then this fact implies that the coefficients in the linear combination of basis functions are well- determined.\n",
    "\n",
    "False. A high degree polynomial will exactly reproduce the data values, but oscillate wildly between data values in a way which the data may not support."
   ]
  },
  {
   "cell_type": "markdown",
   "metadata": {},
   "source": [
    "> 7.3. True or false: If the polynomial interpolat- ing a given set of data points is unique, then so is the representation of that polynomial.\n",
    "\n",
    "False.  Although the polynomial of degree $n-1$ passing through $n$ data points is unique, the representation of this polynomial is not. "
   ]
  },
  {
   "cell_type": "markdown",
   "metadata": {},
   "source": [
    "> 7.4. True or false: When interpolating a contin- uous function by a polynomial at equally spaced points on a given interval, the polynomial inter- polant always converges to the function as the number of interpolation points increases.\n",
    "\n",
    "False.  Equally spaced points are expected to have errors at the extrema of the interval.  Furthermore as the number of points increases the polynomial will oscillate wildly between the interpolation points in a way which the data may not support."
   ]
  },
  {
   "cell_type": "markdown",
   "metadata": {},
   "source": [
    "> 7.5. What is the basic distinction between inter- polation and approximation of a function?\n",
    "\n",
    "The interpolant will return the exact same values at the data points, whereas this is not required from an approximation.  In general, approximation is appropriate when trying to fit measurements corrupted by noise, in which case reproducing the exact value is not desired."
   ]
  },
  {
   "cell_type": "markdown",
   "metadata": {},
   "source": [
    "> 7.6. State at least two different applications for interpolation.\n",
    "\n",
    "1. Augmenting complex or special functions appearing in tables with something that can be used to return values between those appearing in the table.\n",
    "2. Graphics."
   ]
  },
  {
   "cell_type": "markdown",
   "metadata": {},
   "source": [
    "> 7.7. Give two examples of numerical methods (for problems other than interpolation itself) that are based on polynomial interpolation.\n",
    "\n",
    "1. Taylor series for root finding or minimization.\n",
    "2. Linear fractional interpolation for root finding."
   ]
  },
  {
   "cell_type": "markdown",
   "metadata": {},
   "source": [
    "> 7.8. Is it ever possible for two distinct polyno- mials to interpolate the same n data points? If so, under what conditions, and if not, why?\n",
    "\n",
    "Only the polynomial of degree $n-1$ will be unique.  Higher degree polynomials that are distinct from the polynomial of degree $n-1$ and contribute zero at the data points can be constructed. "
   ]
  },
  {
   "cell_type": "markdown",
   "metadata": {},
   "source": [
    "> 7.9. State at least two important criteria for choosing a particular set of basis functions for use in interpolation.\n",
    "\n",
    "1. Conditioning of the basis function.\n",
    "2. Cost of computing coefficients used by interpolant.\n",
    "3. Cost of evaluating the interpolant."
   ]
  },
  {
   "cell_type": "markdown",
   "metadata": {},
   "source": [
    "> 7.10. Determining the parameters of an inter- polant can be interpreted as solving a linear sys- tem Ax = y, where the matrix A depends on the basis functions used and the vector y contains the function values to be fit. Describe in words the pattern of nonzero entries in the matrix A for polynomial interpolation using each of the follow- ing bases:\n",
    "\n",
    "(a) Monomial basis\n",
    "\n",
    "The monomial basis forms a Vandermonde matrix with sequential increasing powers of some independent variable.\n",
    "\n",
    "(b) Lagrange basis\n",
    "\n",
    "The Lagrange basis is the identity matrix.\n",
    "\n",
    "(c) Newton basis\n",
    "\n",
    "The Newton basis forms a lower triangular matrix."
   ]
  },
  {
   "cell_type": "markdown",
   "metadata": {},
   "source": [
    "> 7.11. (a) Is interpolation an appropriate proce- dure for fitting a function to noisy data?\n",
    "(b) If so, why, and if not, what is a good alterna- tive?\n",
    "\n",
    "(a) No approximation should be used for noisy data rather than interpolation.\n",
    "\n",
    "(b) Since interpolation gives the exact value at the data points, the use of an interpolant with noisy data would result in modeling the original function corrupted by noise.  Least squares fit is a better alternative to interpolation for data corrupted by noise."
   ]
  },
  {
   "cell_type": "markdown",
   "metadata": {},
   "source": [
    "$\\bigtriangledown$ \n",
    "\n",
    "> 7.12. (a) For a given set of data points (ti,yi), i = 1, . . . , n, rank the following three methods for polynomial interpolation according to the cost of determining the interpolant (i.e., determining the coefficients of the basis functions), from 1 for the cheapest to 3 for the most expensive:\n",
    "\n",
    "1. (cheapest, tie) Lagrange basis & Newton basis are both $O(n^2)$\n",
    "2. (most expensive) monomial basis is $O(n^3)$\n",
    "\n",
    "> (b) Which of the three methods has the best- conditioned basis matrix A, where aij = φj(ti)?\n",
    "\n",
    "1. (least ill-conditioned) Lagrange basis\n",
    "2. Newton basis\n",
    "3. (most ill-conditioned) monomial basis\n",
    "\n",
    "> (c) For which of the three methods is evaluating the resulting interpolant at a given point the most expensive?\n",
    "\n",
    "Cost of evaluating the interpolant is $O(n)$ for all three methods, but the constant is larger for Lagrange interpolation (roughly $5n$) in comparison to monomial and Newton (roughly $2n$ since both use Horner's rule)."
   ]
  },
  {
   "cell_type": "markdown",
   "metadata": {},
   "source": [
    "> 7.13. (a) What is a Vandermonde matrix? (b) In what context does such a matrix arise?\n",
    "(c) Why is such a matrix often ill-conditioned when its order is relatively large?\n",
    "\n",
    "(a) A Vandermonde matrix is a matrix with sequential increasing powers of some independent variable.\n",
    "\n",
    "(b) The Vandermonde matrix, $A$ is used as a monomial basis in polynomial interpolation.\n",
    "\n",
    "(c) As the degree of the powers increases the columns of the Vandermonde matrix become increasingly linearly dependent resulting in a high condition number for the matrix."
   ]
  },
  {
   "cell_type": "markdown",
   "metadata": {},
   "source": [
    "> 7.14. Given a set of n data points, (ti,yi), i = 1, . . . , n, determining the coefficients xi of the in- terpolating polynomial requires the solution of an n × n system of linear equations Ax = y.\n",
    "(a) If we use the monomial basis 1,t,t2,..., give an expression for the entries aij of the matrix A that is efficient to evaluate.\n",
    "(b) Does the condition of A tend to become bet- ter, or worse, or stay about the same as n grows? (c) How does this change affect the accuracy with which the interpolating polynomial fits the given data points?\n",
    "\n",
    "(a) $t^{j-1}$.\n",
    "\n",
    "(b) The condition number of the Vandermonde matrix will increase as $n$ gets larger.\n",
    "\n",
    "(c) The interpolating polynomial will always fit the data points exactly. "
   ]
  },
  {
   "cell_type": "markdown",
   "metadata": {},
   "source": [
    "$\\bigtriangledown$ \n",
    "\n",
    "> 7.15. For Lagrange polynomial interpolation of n data points (ti,yi), i = 1,...,n,\n",
    "(a) What is the degree of each polynomial func- tion lj(t) in the Lagrange basis?\n",
    "(b) What function results if we sum the n func- tions in the Lagrange basis (i.e., if we take $g(t) = \\sum_{j=1}^n l_j(t)$, what function g(t) results)?\n",
    "\n",
    "(a) The degree of each polynomial function $l_j(t)$ is $n-1$.\n",
    "\n",
    "(b) The sum over the $n$ basis functions $g(t) = \\sum_{j=1}^n l_j(t) = n$ since the value of $l_j(t)$ is  1.  This is consistent with the Lagrange basis function forming an identity matrix, $I$."
   ]
  },
  {
   "cell_type": "markdown",
   "metadata": {},
   "source": [
    "> 7.16. List one advantage and one disadvantage of Lagrange interpolation compared with using the monomial basis for polynomial interpolation.\n",
    "\n",
    "Advantages\n",
    "\n",
    "* Coefficients for Lagrange interpolation are cheaper to compute ($O(n^2)$) in comparison to monomial basis ($O(n^3)$).\n",
    "* Coefficients for Lagrange interpolation are better conditioned in comparision to monomial basis.\n",
    "\n",
    "Disadvantages\n",
    "\n",
    "* Cost of evaluating the interpolant is higher for Lagrange interpolation ($5n$) compared to monomial basis ($2n$)."
   ]
  },
  {
   "cell_type": "markdown",
   "metadata": {},
   "source": [
    "> 7.17. What is the computational cost (number of additions and multiplications) of evaluating a polynomial of degree n using Horner’s method?\n",
    "\n",
    "Cost of Horner's method is $n$ additions and $n$ multiplications."
   ]
  },
  {
   "cell_type": "markdown",
   "metadata": {},
   "source": [
    "> 7.18. Why is interpolation by a polynomial of high degree often unsatisfactory?\n",
    "\n",
    "A high degree polynomial will exactly reproduce the data values, but oscillate wildly between data values in a way which the data may not support."
   ]
  },
  {
   "cell_type": "markdown",
   "metadata": {},
   "source": [
    "> 7.19. (a) In interpolating a continuous function by a polynomial, what key features determine the error in approximating the function by the result- ing interpolant?\n",
    "(b) Under what circumstances can the error be large even though the number of interpolation points is large?\n",
    "\n",
    "(a) The number of data points $n$ and spacing between data points $h$.  A loose upper bound on the max error for any data point is given by $Mh^n / 4n$.\n",
    "\n",
    "(b) Equally spaced sample points are expected to have inflated errors at the extrema of the interval."
   ]
  },
  {
   "cell_type": "markdown",
   "metadata": {},
   "source": [
    "> 7.20. How should the interpolation points be placed in an interval in order to guarantee conver- gence of the polynomial interpolant to sufficiently smooth functions on the interval as the number of points increases?\n",
    "\n",
    "Sample points spaced at Chebyshev points distribute the error more evenly, resulting in smaller errors at the extrema."
   ]
  },
  {
   "cell_type": "markdown",
   "metadata": {},
   "source": [
    "> 7.21. What does it mean for two polynomials p and q to be orthogonal to each other on an interval $[a, b]$?\n",
    "\n",
    "The inner product of the polynomials $\\langle p, q \\rangle = 0$ when $p \\neq q$"
   ]
  },
  {
   "cell_type": "markdown",
   "metadata": {},
   "source": [
    "> 7.22. (a) What is meant by a Taylor polynomial? (b) In what sense does it interpolate a given func- tion?\n",
    "\n",
    "(a) The Taylor polynomial of $f(t)$ at $a$ is given by:\n",
    "$$\n",
    "f(t) = f(a) + f'(a)(t - a) + \\frac{f''(a)}{2!}(t - a)^2 + \\cdots + \\frac{f^{(n)}(a)}{n!}(t - a)^n \n",
    "$$\n",
    "\n",
    "(b) A Taylor polynomial can be considered an interpolant of exactly one data point $(a, f(a))$."
   ]
  },
  {
   "cell_type": "markdown",
   "metadata": {},
   "source": [
    "> 7.23. In fitting a large number of data points, what is the main advantage of piecewise polyno- mial interpolation over interpolation by a single polynomial?\n",
    "\n",
    "Piecewise polynomial interpolation fits large number of samples with low-degree polynomials to avoid excessive oscillations in the interpolant."
   ]
  },
  {
   "cell_type": "markdown",
   "metadata": {},
   "source": [
    "> 7.24. (a) How does Hermite interpolation differ from ordinary interpolation?\n",
    "(b) How does a cubic spline interpolant differ from a Hermite cubic interpolant?\n",
    "\n",
    "(a) Hermite cubic interpolant is piecewise cubic polynomial interpolant.  A polynmial interpolant fits all of the samples to a single polynomial and is appropriate when the number of samples is relatively small.  In contrast a piecewise polynomial interpolant breaks the interval containing the sample points into $k$ subintervals and fits a distinct cubic interpolant to each subinterval.  As a result, a piecewise polynomial interpolant will do a better job to fit large number of samples in comparison to a polynomial interpolant.\n",
    "\n",
    "(b) Both Hermite and cubic spline are piecewise cubic polynomial interpolants.  They differ in the following ways.\n",
    "* Hermite cubic uses only first derivative information and cubic spline uses first and second derivative.\n",
    "* Both Hermite and cubic spline have $4(n-1)$ parameters to be determined, but they differ in the number of free parameters. \n",
    "  * Hermite cubic has $n$ free parameters and cubic spline has 2 free parameters.\n",
    "* Hermite cubic polynomials are appropriate for preserving monotonic data whereas cubic spline are appropriate for preserving maximum smoothness."
   ]
  },
  {
   "cell_type": "markdown",
   "metadata": {},
   "source": [
    "> 7.25. In choosing between Hermite cubic and cu- bic spline interpolation, which should one choose (a) If maximum smoothness of the interpolant is desired?\n",
    "(b) If the data are monotonic and this property is to be preserved?\n",
    "\n",
    "(a) For maximum smoothness, then a spline is more appropriate. \n",
    "\n",
    "(b) To preserve monotonic data, then Hermite cubic is more appropriate."
   ]
  },
  {
   "cell_type": "markdown",
   "metadata": {},
   "source": [
    "> 7.26. (a) How many times is a Hermite cubic in- terpolant continuously differentiable?\n",
    "(b) How many times is a cubic spline interpolant continuously differentiable?\n",
    "\n",
    "(a) Once.\n",
    "\n",
    "(b) Twice."
   ]
  },
  {
   "cell_type": "markdown",
   "metadata": {},
   "source": [
    "> 7.27. The continuity and smoothness require- ments on a cubic spline interpolant still leave two free parameters. Give at least two examples of additional constraints that might be imposed to determine the cubic spline interpolant to a set of data points.\n",
    "\n",
    "1. Forcing the second derivative to be zero at the endpoint aka **natural spline**.\n",
    "2. Specifying the first derivative at the endpoints based on boundary conditions."
   ]
  },
  {
   "cell_type": "markdown",
   "metadata": {},
   "source": [
    "> 7.28. (a) How many parameters are required to define a piecewise cubic polynomial with n knots? (b) Obviously, a similar number of equations is re- quired to determine those parameters. Assuming the interpolating function is to be a natural cubic spline, explain how the requirements on the func- tion account for the necessary number of equations in the linear system to be solved for the parame- ters.\n",
    "\n",
    "(a) Assume $n$ knots with $n-1$ piecewise subintervals. For each knot, there are 4 parameters, $x$, in the cubic eg $p_3(t) = x_0 + x_1 t + x_2 t^2 + x_3 t^3$.   As a result, there $4(n-1)$ parameters summed over all the subintervals.\n",
    "\n",
    "(b) A natural spline forces the second derivative to be zero at the endpoint by adding the equations for this constraint to satisfy the free parameters."
   ]
  },
  {
   "cell_type": "markdown",
   "metadata": {},
   "source": [
    "> 7.29. Which of the following interpolants to n data points are unique?\n",
    "(a) Polynomial of degree at most n − 1\n",
    "(b ) Hermite cubic\n",
    "(c) Cubic spline\n",
    "\n",
    "Answer is (a). Neither the Hermite cubic nor the Cubic spline are unique since both have free parameters.  In constrast, the polynomial of degree $n-1$ passing through $n$ data points is unique"
   ]
  },
  {
   "cell_type": "markdown",
   "metadata": {},
   "source": [
    "> 7.30. For which of the following types of interpo- lation is it possible, in general, to preserve mono- tonicity in a set of n data points (i.e., the inter- polant is increasing or decreasing if the data points are increasing or decreasing)?\n",
    "(a) Polynomial of degree at most n − 1\n",
    "(b ) Hermite cubic\n",
    "(c) Cubic spline\n",
    "\n",
    "The Hermite cubic (b) preserves the monotonicity of the data points in the interpolant."
   ]
  },
  {
   "cell_type": "code",
   "execution_count": null,
   "metadata": {},
   "outputs": [],
   "source": []
  }
 ],
 "metadata": {
  "kernelspec": {
   "display_name": "Python 3",
   "language": "python",
   "name": "python3"
  },
  "language_info": {
   "codemirror_mode": {
    "name": "ipython",
    "version": 3
   },
   "file_extension": ".py",
   "mimetype": "text/x-python",
   "name": "python",
   "nbconvert_exporter": "python",
   "pygments_lexer": "ipython3",
   "version": "3.6.9"
  }
 },
 "nbformat": 4,
 "nbformat_minor": 2
}
