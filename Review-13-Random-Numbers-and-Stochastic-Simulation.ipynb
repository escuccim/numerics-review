{
 "cells": [
  {
   "cell_type": "markdown",
   "metadata": {},
   "source": [
    "# Review-13-Random-Numbers-and-Stochastic-Simulation"
   ]
  },
  {
   "cell_type": "markdown",
   "metadata": {},
   "source": [
    "Answers to review questions from Chapter 13: Random Numbers and Stochastic Simulation <cite data-cite=\"heath2018scientific\">(Heath, 2018)</cite>.\n",
    "\n",
    "---\n",
    "Questions marked with $\\bigtriangledown$ are considered more difficult."
   ]
  },
  {
   "cell_type": "markdown",
   "metadata": {},
   "source": [
    "> 13.1. True or false: Stochastic simulation meth- ods are useful only for nondeterministic systems.\n",
    "\n",
    "False. Stochastic simulation methods can **also** be used with deterministic systems with high dimensionality eg use of Monte Carlo methods for multidimensional integration."
   ]
  },
  {
   "cell_type": "markdown",
   "metadata": {},
   "source": [
    "> 13.2. True or false: A very complicated algo- rithm for generating random numbers tends to be better than a simple one.\n",
    "\n",
    "False. The midsquare method was an early attempt to produce random numbers which although complicated, failed to produce sequences which pass statistical tests of randomness."
   ]
  },
  {
   "cell_type": "markdown",
   "metadata": {},
   "source": [
    "> 13.3. What two requirements are essential for stochastic simulation methods?\n",
    "\n",
    "1. Knowledge of relevant probability distributions.\n",
    "2. Supply of random numbers for making random choices."
   ]
  },
  {
   "cell_type": "markdown",
   "metadata": {},
   "source": [
    "> 13.4. In using stochastic simulation methods, why is repeatability desirable in practice, even if undesirable in theory?\n",
    "\n",
    "Repeatability allows others to reproduce, debug, or test the results obtained from a simulation."
   ]
  },
  {
   "cell_type": "markdown",
   "metadata": {},
   "source": [
    "> 13.5. List at least three desirable properties of a good random number generator.\n",
    "\n",
    "1. Passes statistical tests of randomness.\n",
    "2. Long period.\n",
    "  * Length of sequence before starts repeating.\n",
    "3. Repeatable. \n",
    "  * Produces repeatable sequence starting from same seed.\n",
    "4. Portable.\n",
    "  * Produce the same sequence from same seed on different computers.\n",
    "5. Efficient.\n",
    "  * Execute quickly and hold little state."
   ]
  },
  {
   "cell_type": "markdown",
   "metadata": {},
   "source": [
    "> 13.6. What is meant by a congruential random number generator?\n",
    "\n",
    "A congruential random number generator returns a sequence of integers in the interval $[0, M)$ starting from some initial seed:\n",
    "$$\n",
    "x_k = (a x_{k-1} + b) (\\bmod M)\n",
    "$$\n",
    "where\n",
    "* $a$, $b$ are constants of the generator\n",
    "* $x_{k-1}$ is the previous integer returned from the sequence or seed if this is a new sequence\n",
    "* $M$ is the period of the generator and typically the largest integer which can be represented on the machine"
   ]
  },
  {
   "cell_type": "markdown",
   "metadata": {},
   "source": [
    "> 13.7. What is meant by a Fibonacci random number generator?\n",
    "\n",
    "A Fibonacci random number generator produces a sequence from the sum or difference of two prior values in the sequence:\n",
    "$$\n",
    "x_k = x_{k-M} - x_{k-P}\n",
    "$$\n",
    "where\n",
    "* $M$ and $P$ are the **lag**"
   ]
  },
  {
   "cell_type": "markdown",
   "metadata": {},
   "source": [
    "> 13.8. List two advantages and two disadvantages of a Fibonacci generator compared with a congru- ential generator for generating random floating- point numbers uniformly distributed on the inter- val $[0, 1)$.\n",
    "\n",
    "Advantages\n",
    "* Longer period than congruential generators.\n",
    "* Does not use floating point division.\n",
    "\n",
    "Disadvantages\n",
    "* Require special initialization to handle initial values with insufficient lag.\n",
    "* Requires additional storage to be able to retrieve lag values to compute the next value in the sequence.\n"
   ]
  },
  {
   "cell_type": "markdown",
   "metadata": {},
   "source": [
    "> 13.9. If you have a random number generator for a uniform distribution on $[0, 1)$, how can you use it to generate random numbers uniformly dis- tributed on the interval $[a, b)$ for given real num- bers a and b?\n",
    "\n",
    "$$\n",
    "a + (b-a) x_k\n",
    "$$\n",
    "where\n",
    "* $a$, $b$ defines the interval.\n",
    "* $x_k$ is a random deviate on the interval $[0, 1)$."
   ]
  },
  {
   "cell_type": "markdown",
   "metadata": {},
   "source": [
    "> 13.10. If you have a random number genera- tor for a normal distribution with mean 0 and variance 1, how can you use it to generate ran- dom numbers uniformly normally distributed with mean $\\mu$ and variance $\\sigma^2$?\n",
    "\n",
    "$$\n",
    "\\sigma x_k + \\mu\n",
    "$$\n",
    "where\n",
    "* $\\sigma$ is the standard deviation or $\\sqrt{\\sigma^2}$.\n",
    "* $x_k$ is a random deviate on the interval $[0, 1)$."
   ]
  },
  {
   "cell_type": "markdown",
   "metadata": {},
   "source": [
    "> 13.11. Why are quasi-random sequences some- times more useful than truly random (or pseudo- random) sequences?\n",
    "\n",
    "Pseudo-random sequences tend to exhibit clumping and as a result may not sample throughout the sampling interval. Quasi-random sequences still exhibit some properties of randomness, but with guarantees to more uniformly fill the sampling interval.  These sequences are typically paired with Monte Carlo methods applied to high dimensional problems."
   ]
  },
  {
   "cell_type": "code",
   "execution_count": null,
   "metadata": {},
   "outputs": [],
   "source": []
  }
 ],
 "metadata": {
  "kernelspec": {
   "display_name": "Python 3",
   "language": "python",
   "name": "python3"
  },
  "language_info": {
   "codemirror_mode": {
    "name": "ipython",
    "version": 3
   },
   "file_extension": ".py",
   "mimetype": "text/x-python",
   "name": "python",
   "nbconvert_exporter": "python",
   "pygments_lexer": "ipython3",
   "version": "3.6.9"
  }
 },
 "nbformat": 4,
 "nbformat_minor": 2
}
