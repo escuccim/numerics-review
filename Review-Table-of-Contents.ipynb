{
 "cells": [
  {
   "cell_type": "markdown",
   "metadata": {},
   "source": [
    "# Review: Table of Contents"
   ]
  },
  {
   "cell_type": "markdown",
   "metadata": {},
   "source": [
    "The links below refer to notebooks with answers to the the end of chapter review questions for the textbook _Scientific Computing_ by Michael Heath <cite data-cite=\"heath2018scientific\">(Heath, 2018)</cite>.  These notebooks were originally compiled by Marco Morais while taking [CS 450 Numerical Analysis](https://cs.illinois.edu/sites/default/files/CS450_NumericalAnalysis.pdf) at UIUC and come without any guarantee of accuracy or endorsement by the textbook author.  \n",
    "\n",
    "```\n",
    "@book{heath2018scientific,\n",
    "  title={Scientific computing: an introductory survey},\n",
    "  author={Heath, Michael T},\n",
    "  volume={80},\n",
    "  year={2018},\n",
    "  publisher={SIAM}\n",
    "}\n",
    "```\n",
    "\n",
    "[Review-01-Scientific-Computing](Review-01-Scientific-Computing.ipynb)\n",
    "\n",
    "[Review-02-Systems-of-Linear-Equations](Review-02-Systems-of-Linear-Equations.ipynb)\n",
    "\n",
    "[Review-03-Linear-Least-Squares](Review-03-Linear-Least-Squares.ipynb)\n",
    "\n",
    "[Review-04-Eigenvalue-Problems](Review-04-Eigenvalue-Problems.ipynb)\n",
    "\n",
    "[Review-05-Nonlinear-Equations](Review-05-Nonlinear-Equations.ipynb)\n",
    "\n",
    "[Review-06-Optimization](Review-06-Optimization.ipynb)\n",
    "\n",
    "[Review-07-Interpolation](Review-07-Interpolation.ipynb)\n",
    "\n",
    "[Review-08-Numerical-Integration-and-Differentiation](Review-08-Numerical-Integration-and-Differentiation.ipynb)\n",
    "\n",
    "[Review-09-Initial-Value-Problems-for-ODE](Review-09-Initial-Value-Problems-for-ODE.ipynb)\n",
    "\n",
    "[Review-10-Boundary-Value-Problems-for-ODE](Review-10-Boundary-Value-Problems-for-ODE.ipynb)\n",
    "\n",
    "[Review-11-Partial-Differential-Equations](Review-11-Partial-Differential-Equations.ipynb)\n",
    "\n",
    "[Review-12-Fast-Fourier-Transform](Review-12-Fast-Fourier-Transform.ipynb)\n",
    "\n",
    "[Review-13-Random-Numbers-and-Stochastic-Simulation](Review-13-Random-Numbers-and-Stochastic-Simulation.ipynb)"
   ]
  },
  {
   "cell_type": "code",
   "execution_count": null,
   "metadata": {},
   "outputs": [],
   "source": []
  }
 ],
 "metadata": {
  "kernelspec": {
   "display_name": "Python 3",
   "language": "python",
   "name": "python3"
  },
  "language_info": {
   "codemirror_mode": {
    "name": "ipython",
    "version": 3
   },
   "file_extension": ".py",
   "mimetype": "text/x-python",
   "name": "python",
   "nbconvert_exporter": "python",
   "pygments_lexer": "ipython3",
   "version": "3.6.9"
  }
 },
 "nbformat": 4,
 "nbformat_minor": 2
}
