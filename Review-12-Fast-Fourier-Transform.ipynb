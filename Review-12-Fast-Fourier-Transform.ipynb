{
 "cells": [
  {
   "cell_type": "markdown",
   "metadata": {},
   "source": [
    "# Review-12-Fast-Fourier-Transform"
   ]
  },
  {
   "cell_type": "markdown",
   "metadata": {},
   "source": [
    "Answers to review questions from Chapter 12: Fast Fourier Transform <cite data-cite=\"heath2018scientific\">(Heath, 2018)</cite>.\n",
    "\n",
    "---\n",
    "Questions marked with $\\bigtriangledown$ are considered more difficult."
   ]
  },
  {
   "cell_type": "markdown",
   "metadata": {},
   "source": [
    "> 12.1. True or false: The fast Fourier transform (FFT) algorithm can compute both the discrete Fourier transform and its inverse with equal effi- ciency.\n",
    "\n",
    "True. The work required for the FFT and inverse FFT is $O(n \\log n)$."
   ]
  },
  {
   "cell_type": "markdown",
   "metadata": {},
   "source": [
    "> 12.2. (a) Why is the discrete Fourier transform of a sequence said to be in the frequency domain? (b) Give two reasons why such a transformation into the frequency domain can be useful.\n",
    "\n",
    "(a) The DFT transforms a sequence to a linear combination of periodic sine and cosine functions.  The result of the DFT is expressed in terms of an indepdendent variable referred to as **frequency**.\n",
    "\n",
    "(b) Transforming a sequence to the frequency domain has the following advantages:\n",
    "* Compressed representation for the repeating parts of the sequence.\n",
    "* Overlapping cyclic phenomena are more easily separated in the frequency domain."
   ]
  },
  {
   "cell_type": "markdown",
   "metadata": {},
   "source": [
    "> 12.3. What is meant by an nth root of unity?\n",
    "\n",
    "The nth root of unity are the roots of the equation $x^n = 1$.  In the context of the DFT, the roots of unity are the powers shown below which appear in the Fourier matrix used to compute DFT and inverse DFT.  \n",
    "\n",
    "$$\n",
    "\\omega_n = \\cos(2\\pi/n) - i \\sin(2\\pi/n) = e^{-2\\pi i/n}\n",
    "$$"
   ]
  },
  {
   "cell_type": "markdown",
   "metadata": {},
   "source": [
    "> 12.4. For what type of function would trigono- metric interpolation be more appropriate than polynomial or piecewise polynomial interpolation?\n",
    "\n",
    "A function with one or more periodic components, such as weather or economic data, may be more efficiently interpolated using the DFT.\n",
    "\n",
    "A function with rapidly changing components (eg sharp corners) would *not* be good candidate for the DFT, but might be a good candidate for the Discrete Wavelet Transform (DWT)."
   ]
  },
  {
   "cell_type": "markdown",
   "metadata": {},
   "source": [
    "> 12.5. List two applications for the discrete Fourier transform (DFT).\n",
    "\n",
    "1. Removing high frequency noise from a sequence aka digital filtering.\n",
    "2. Performing convolution between a sequence and a window function."
   ]
  },
  {
   "cell_type": "markdown",
   "metadata": {},
   "source": [
    "> 12.6. What two assumptions are implicitly made in applying the DFT to a sequence (i.e., what two properties are the data assumed to satisfy)?\n",
    "\n",
    "1. Equally spaced.\n",
    "2. Sequence should be periodic to avoid introducing spurious noise.\n",
    "\n",
    "The FFT adds an additional requirement:\n",
    "1. Number of points in the sequence must be a power of 2."
   ]
  },
  {
   "cell_type": "markdown",
   "metadata": {},
   "source": [
    "> 12.7. (a) What property must the number of points, n, satisfy for the FFT algorithm to be max- imally efficient relative to straightforward evalua- tion of the DFT by matrix-vector multiplication? (b) What is the arithmetic complexity of the FFT algorithm in this case?\n",
    "\n",
    "(a) The number of points in the sequence must be a power of 2.\n",
    "\n",
    "(b) The worked required for the FFT is $O(n \\log n)$."
   ]
  },
  {
   "cell_type": "markdown",
   "metadata": {},
   "source": [
    "> 12.8. Explain why the inverse DFT can be com- puted just as efficiently as the forward DFT using the FFT algorithm.\n",
    "\n",
    "The DFT and the inverse DFT differ only by the sign of the exponent.  As a result, the work required for the inverse FFT is the same as FFT."
   ]
  },
  {
   "cell_type": "markdown",
   "metadata": {},
   "source": [
    "$\\bigtriangledown$\n",
    "\n",
    "> 12.9. The DFT of a sequence of length n can be interpreted as interpolation by a set of n trigono- metric basis functions.\n",
    "(a) Why does computing the DFT not require the solution of an n × n linear system by matrix fac- torization in order to determine the coefficients of the basis functions?\n",
    "(b) What is the worst-case computational com- plexity for computing the DFT? For what values of n is this the case? (c) What is the best-case computational complex- ity for computing the DFT? For what values of n is this the case?\n",
    "(d) Explain briefly the reason for the difference, or the lack of it, between the complexities in parts bandc.\n",
    "\n",
    "(a) Unlike monomial basis functions, the coefficients of the DFT basis functions represent the amplitude and frequency of the sine and cosine function.\n",
    "\n",
    "(b) The work required for the DFT is $O(n^2)$.\n",
    "\n",
    "(c) The work required for the FFT is $O(n \\log n)$, but the length of the sequence must be a power of 2.  \n",
    "\n",
    "(d) Padding the input sequence passed to the FFT in order to satisfy the power of 2 requirement can introduce spurious noise.  As a result, routines which compute the FFT must be careful to split the input into power of 2 and handle any remaining non-power of 2 component of the sequence with the slower DFT."
   ]
  },
  {
   "cell_type": "markdown",
   "metadata": {},
   "source": [
    "> 12.10. (a) Why might one consider padding a se- quence with zeros, if necessary, to make its length a power of two before computing its DFT via the FFT algorithm?\n",
    "(b) Why might this not be a good idea?\n",
    "\n",
    "(a) Use of FFT for polynomial multiplication can require padding the sequence with zeros.\n",
    "\n",
    "(b) Padding the input sequence passed to the FFT in order to satisfy the power of 2 requirement can introduce spurious noise."
   ]
  },
  {
   "cell_type": "markdown",
   "metadata": {},
   "source": [
    "> 12.11. Why is the FFT algorithm useful for com-\n",
    "puting the convolution of two sequences?\n",
    "\n",
    "Convolution using the DFT, described below, is more efficient than convolution performed solely in the time domain.\n",
    "\n",
    "Discrete Convolution\n",
    "1. Transform the input sequence and kernel to frequency domain using DFT.\n",
    "2. Zero-pad the kernel to be of the same size as the input sequence.\n",
    "  * Compute the pointwise product of the two sequences in frequency domain.\n",
    "3. Transform the product back to the time domain using inverse FFT."
   ]
  },
  {
   "cell_type": "markdown",
   "metadata": {},
   "source": [
    "> 12.12. (a) Explain briefly how the FFT algo- rithm can be used to multiply two polynomials.\n",
    "(b) How does the computational complexity of this method compare with the conventional approach to polynomial multiplication?\n",
    "\n",
    "(a) Similar to discrete convolution: transform sequences to frequency domain, do pointwise product, then transform back to time domain.\n",
    "\n",
    "(b) Conventional polynomial multiplication requires $O(n^2)$ work whereas the fast polynomial method using FFT requires $O(n \\log n)$."
   ]
  },
  {
   "cell_type": "markdown",
   "metadata": {},
   "source": [
    "> 12.13. What advantages do wavelets have over the trigonometric functions used in Fourier anal- ysis?\n",
    "\n",
    "1. Wavelets can handle functions with sharp corners.\n",
    "2. Wavelet basis functions are more sparse, as a result the they are more efficient to work with. The DWT requires $O(n)$ work whereas the FFT requires $O(n \\log n)$."
   ]
  },
  {
   "cell_type": "markdown",
   "metadata": {},
   "source": [
    "> 12.14. What two operations are used to generate a wavelet basis from a single mother wavelet?\n",
    "\n",
    "Wavelets are localized in frequency (by dilation) and time (by translation)."
   ]
  },
  {
   "cell_type": "markdown",
   "metadata": {},
   "source": [
    "> 12.15. What is the computational complexity of the discrete wavelet transform?\n",
    "\n",
    "The DWT requires $O(n)$ work whereas the FFT requires $O(n \\log n)$."
   ]
  },
  {
   "cell_type": "code",
   "execution_count": null,
   "metadata": {},
   "outputs": [],
   "source": []
  }
 ],
 "metadata": {
  "kernelspec": {
   "display_name": "Python 3",
   "language": "python",
   "name": "python3"
  },
  "language_info": {
   "codemirror_mode": {
    "name": "ipython",
    "version": 3
   },
   "file_extension": ".py",
   "mimetype": "text/x-python",
   "name": "python",
   "nbconvert_exporter": "python",
   "pygments_lexer": "ipython3",
   "version": "3.6.9"
  }
 },
 "nbformat": 4,
 "nbformat_minor": 2
}
