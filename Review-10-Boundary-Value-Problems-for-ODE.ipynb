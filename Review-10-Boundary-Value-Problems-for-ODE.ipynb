{
 "cells": [
  {
   "cell_type": "markdown",
   "metadata": {},
   "source": [
    "# Review-10-Boundary-Value-Problems-for-ODE"
   ]
  },
  {
   "cell_type": "markdown",
   "metadata": {},
   "source": [
    "Answers to review questions from Chapter 8: Boundary Value Problems for Ordinary Differential Equations <cite data-cite=\"heath2018scientific\">(Heath, 2018)</cite>.\n",
    "\n",
    "---\n",
    "Questions marked with $\\bigtriangledown$ are considered more difficult."
   ]
  },
  {
   "cell_type": "markdown",
   "metadata": {},
   "source": [
    "> 10.1. What specific feature distinguishes a boundary value problem from an initial value problem for an ordinary differential equation?\n",
    "\n",
    "In a boundary value problem, the boundary conditions are given for at least one point which is not an initial value eg $u(t \\neq 0)$. "
   ]
  },
  {
   "cell_type": "markdown",
   "metadata": {},
   "source": [
    "> 10.2. What is meant by separated boundary con- ditions?\n",
    "\n",
    "Separated boundary conditions are boundary conditions only at $u(a)$ or $u(b)$, but not both."
   ]
  },
  {
   "cell_type": "markdown",
   "metadata": {},
   "source": [
    "> 10.3. Does a boundary value problem for an ODE always have a unique solution?\n",
    "\n",
    "No. Unlike an initial value problem, a BVP might not have a unique solution."
   ]
  },
  {
   "cell_type": "markdown",
   "metadata": {},
   "source": [
    "> 10.4. Is the stability of a boundary value problem always the same as that of the associated initial value problem for the same ODE? Why?\n",
    "\n",
    "Not the same.\n",
    "\n",
    "For an IVP, the stability potentially declines as time increases away from the initial conditions.\n",
    "\n",
    "For BVP the solution is determined everywhere simultaneously.  As a result, we must be concerned with instability in forward and backward directions with respect to time."
   ]
  },
  {
   "cell_type": "markdown",
   "metadata": {},
   "source": [
    "> 10.5. Explain how a one-dimensional zero finder can be used to solve a two-point BVP $u′′ = f(t,u,u′)$ with boundary conditions $u(a) = \\alpha$ and $u(b) = \\beta$.\n",
    "\n",
    "Using the shooting method.\n",
    "\n",
    "1. **Guess** values for $u'(a)$ and solve the resulting IVP.\n",
    "2. Compare solution from previous step at $b$ with the BC $u(b) = \\beta$.\n",
    "3. Repeat step 1 until the solution obtained matches the BC at $b$.\n",
    "  * Use root-finding method to obtain the next guess for $u'(a)$ that is successively closer to $u(b) = \\beta$. "
   ]
  },
  {
   "cell_type": "markdown",
   "metadata": {},
   "source": [
    "> 10.6. For solving a two-point BVP for a nonlin- ear ODE, both the finite difference method and the shooting method are iterative. One of these approximately satisfies the ODE at each itera- tion, but satisfies the boundary conditions only upon convergence, whereas the other satisfies the boundary conditions at each iteration, but approx- imately satisfies the ODE only upon convergence. Which is which?\n",
    "\n",
    "Shooting Method\n",
    "* Approximately satisfies ODE at each iteration.\n",
    "* Satisfies BC at convergence.\n",
    "  * By successively guessing values of $u'(a)$ which are closer to BC for $u(b)$.\n",
    "\n",
    "Finite Difference Method\n",
    "* Approximately satisfies ODE upon convergence.\n",
    "  * Uses finite difference equations to obtain increasingly more accurate approximations to the derivatives. \n",
    "* Satisfies BC at each iteration.\n",
    "  * BC are held constant throughout iteration."
   ]
  },
  {
   "cell_type": "markdown",
   "metadata": {},
   "source": [
    "> 10.7. (a) In solving a two-point BVP, for what type of problem is the multiple shooting method likely to be more effective than the ordinary shoot- ing method?\n",
    "(b) What disadvantage does the multiple shooting method have, compared with the ordinary shoot- ing method?\n",
    "\n",
    "(a) Multiple shooting is useful when BVP is unstable, but IVP is stable.\n",
    "\n",
    "(b) Subdividing the integration interval into $m$ subintervals increases the amount of work to solve the ODE by $m$. "
   ]
  },
  {
   "cell_type": "markdown",
   "metadata": {},
   "source": [
    "> 10.8. When a finite difference method is used to convert a BVP for a differential equation into a system of algebraic equations, what property de- termines whether the algebraic system will be lin- ear or nonlinear?\n",
    "\n",
    "The linearity of the system of algebraic equations depends on the ODE.\n",
    "* If ODE is linear, then system is linear.\n",
    "* If ODE is nonlinear, then system is nonlinear."
   ]
  },
  {
   "cell_type": "markdown",
   "metadata": {},
   "source": [
    "> 10.9. Finite difference and finite element meth- ods for solving BVPs convert the original differen- tial equation into a system of algebraic equations. Why does the resulting linear system usually re- quire far less work to solve than the usual O(n3) that might be expected?\n",
    "\n",
    "The system of algebraic equations formed for the finite difference solution of a linear ODE are tridiagonal.\n",
    "* A tridiagonal system of bandwidth $\\beta=3$ requires only $O(3n)$ storage and $O(3^2n)$ work to factorize using LU factorization."
   ]
  },
  {
   "cell_type": "markdown",
   "metadata": {},
   "source": [
    "> 10.10. Finite difference methods and collocation methods for solving BVPs both require the solu- tion of a system of algebraic equations, but the solutions to the respective algebraic systems differ in their meanings and how they are used.\n",
    "(a) How do the quantities being solved for differ between the two types of methods?\n",
    "(b) How do the resulting approximate solutions to the BVP differ in nature?\n",
    "\n",
    "(a) \n",
    "\n",
    "Finite Difference Method\n",
    "* Solve for values of the solution to the ODE at a vector of mesh points $t$.\n",
    "\n",
    "Collocation Method\n",
    "* Solve for the vector $x$ of parameters of the basis functions formed from collocation points.\n",
    "\n",
    "(b)\n",
    "\n",
    "Finite Difference Method\n",
    "* Produces approximate values of the solution at mesh points.\n",
    "* Use interpolation to obtain the solution to the ODE at points other than mesh points.\n",
    "\n",
    "Collocation Method\n",
    "* Forces the approximate solution to satisfy the differential equation at the collocation points, which means that the residual is zero at those selected points when the approximate solution is substi- tuted into the differential equation.\n",
    "* Use a linear combination of $x$ and the basis functions to obtain the solution to the ODE at any point."
   ]
  },
  {
   "cell_type": "markdown",
   "metadata": {},
   "source": [
    "$\\bigtriangledown$\n",
    "\n",
    "> 10.11. Why is it advantageous if the basis func- tions used in a collocation or Galerkin method have localized support (i.e., each basis function is nonzero on only a small portion of the problem domain)?\n",
    "\n",
    "Localized support of the basis functions automatically makes them “nearly” orthogonal, which tends to yield a relatively well-conditioned system of equations, and it also makes the system sparse, so that much less work and storage are required to solve it. In addition, sparse systems can be more easily parallelized through direct or iterative methods in comparison to dense systems.\n",
    "\n",
    "In contrast, global support of the basis functions yields a dense system of equa- tions that potentially requires a relatively large amount of work and storage to solve.  In addition, for some choices of basis functions with global support, such as polynomials, the resulting system of equations become ill-conditioned as the number of basis functions increases."
   ]
  },
  {
   "cell_type": "markdown",
   "metadata": {},
   "source": [
    "> 10.12. In solving a BVP, what requirement does the collocation method impose on the approxi- mate solution?\n",
    "\n",
    "The accuracy of the approximate solution to an ODE should increase as the number of collocation points increases."
   ]
  },
  {
   "cell_type": "markdown",
   "metadata": {},
   "source": [
    "> 10.13. Suppose you are solving a two-point BVP for a linear second-order ODE using the standard second-order centered finite-difference approxima- tions to the derivatives. Describe the nonzero pat- tern of the matrix of the resulting system of linear algebraic equations.\n",
    "\n",
    "The system of algebraic equations formed for the finite difference solution of a linear ODE are tridiagonal.\n",
    "\n",
    "The tridiagonal matrix will look something like:\n",
    "$$\n",
    "\\begin{bmatrix}\n",
    "1 & 0 & & & \\\\\n",
    "1 & -2f'' & 1 & & \\\\\n",
    "  & \\ddots & \\ddots & \\ddots & \\\\\n",
    "  & & 1 & -2f'' & 1 \\\\\n",
    "  & & & 2 & -2f'' \\\\\n",
    "\\end{bmatrix}\n",
    "\\begin{bmatrix}\n",
    "y_0 \\\\\n",
    "y_1 \\\\\n",
    "\\vdots \\\\\n",
    "y_{n-1} \\\\\n",
    "y_n \\\\\n",
    "\\end{bmatrix} =\n",
    "\\begin{bmatrix}\n",
    "u(a) \\\\\n",
    "f' \\\\\n",
    "\\vdots \\\\\n",
    "f' \\\\\n",
    "u(b) \\\\\n",
    "\\end{bmatrix}\n",
    "$$"
   ]
  },
  {
   "cell_type": "markdown",
   "metadata": {},
   "source": [
    "> 10.14. Suppose you are using the shooting method to solve a two-point BVP for an ODE on an interval $[a, b]$. If solutions of the ODE are un- stable on some portion of the interval, then the resulting sequence of initial value problems may be very sensitive to initial conditions, making it difficult to hit the required boundary condition. (a) How could you cope with such ill-conditioning? (b) How would this affect the nonlinear algebraic equation to be solved?\n",
    "\n",
    "(a) Subdivide the interval of integration into multiple subintervals with boundary conditions along each subinterval and use the shooting method to separately solve each subinterval.\n",
    "\n",
    "(b) Multiple shooting method requires more work. The new system of ODEs is of size $mn$, where $m$ is the number of subintervals and $n$ is the size of the original system. "
   ]
  },
  {
   "cell_type": "markdown",
   "metadata": {},
   "source": [
    "> 10.15. In solving a two-point BVP numerically, does the approximate solution produced by collo- cation at a finite set of points always agree with the exact solution at those points?\n",
    "\n",
    "Do not expect that the approximate solution to the ODE is exact at the collocation points."
   ]
  },
  {
   "cell_type": "code",
   "execution_count": null,
   "metadata": {},
   "outputs": [],
   "source": []
  }
 ],
 "metadata": {
  "kernelspec": {
   "display_name": "Python 3",
   "language": "python",
   "name": "python3"
  },
  "language_info": {
   "codemirror_mode": {
    "name": "ipython",
    "version": 3
   },
   "file_extension": ".py",
   "mimetype": "text/x-python",
   "name": "python",
   "nbconvert_exporter": "python",
   "pygments_lexer": "ipython3",
   "version": "3.6.9"
  }
 },
 "nbformat": 4,
 "nbformat_minor": 2
}
